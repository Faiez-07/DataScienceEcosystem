{
 "cells": [
  {
   "cell_type": "markdown",
   "id": "f6f9f170-8746-4dfc-a8ae-29b525b01ce0",
   "metadata": {},
   "source": [
    "# Data Science Tools and Ecosystem\n"
   ]
  },
  {
   "cell_type": "markdown",
   "id": "f09bfeb1-e6de-4286-b0c5-aca7ce01aef1",
   "metadata": {},
   "source": [
    "In this notebook, Data Science Tools and Ecosystem are summarized."
   ]
  },
  {
   "cell_type": "markdown",
   "id": "56c82c94-64c2-4b95-a577-4918898572b0",
   "metadata": {},
   "source": [
    "\n",
    "## Some of the popular languages that Data Scientists use are:\n",
    "\n",
    "1. Python\n",
    "2. R\n",
    "3. Julia\n"
   ]
  },
  {
   "cell_type": "markdown",
   "id": "a8e7771b-eb9c-4d1b-9127-7f46b8b05ec3",
   "metadata": {
    "jp-MarkdownHeadingCollapsed": true,
    "tags": []
   },
   "source": [
    "## Some of the commonly used libraries used by Data Scientists include:\n",
    "\n",
    "1. Pandas\n",
    "2. NumPy\n",
    "3. Scikit-learn\n"
   ]
  },
  {
   "cell_type": "markdown",
   "id": "cee74ba7-db80-464c-beac-3e6d74f9a354",
   "metadata": {},
   "source": [
    "## Data Science Tools\n",
    "\n",
    "| Data Science Tools |\n",
    "|--------------------|\n",
    "| Jupyter Notebook   |\n",
    "| RStudio            |\n",
    "| VS Code            |\n"
   ]
  },
  {
   "cell_type": "markdown",
   "id": "94c1a4b6-5baa-4f1c-a98e-0c915ccc32d7",
   "metadata": {},
   "source": [
    "### Examples of Arithmetic Expressions in Python"
   ]
  },
  {
   "cell_type": "markdown",
   "id": "794051f2-d92a-4a48-9624-ab6599915d9c",
   "metadata": {},
   "source": [
    "1. **Addition:**\n"
   ]
  },
  {
   "cell_type": "code",
   "execution_count": 3,
   "id": "fd4a1bcf-8e5a-416c-8962-a198c009a2f3",
   "metadata": {
    "tags": []
   },
   "outputs": [
    {
     "data": {
      "text/plain": [
       "12"
      ]
     },
     "execution_count": 3,
     "metadata": {},
     "output_type": "execute_result"
    }
   ],
   "source": [
    "5 + 7"
   ]
  },
  {
   "cell_type": "markdown",
   "id": "bdd36bf5-7046-4e66-bb6d-d474c144736d",
   "metadata": {},
   "source": [
    "2. **Subtraction:**"
   ]
  },
  {
   "cell_type": "code",
   "execution_count": 4,
   "id": "a3c33dd2-4ff0-4ddd-9f52-5f7eb69f3743",
   "metadata": {
    "tags": []
   },
   "outputs": [
    {
     "data": {
      "text/plain": [
       "7"
      ]
     },
     "execution_count": 4,
     "metadata": {},
     "output_type": "execute_result"
    }
   ],
   "source": [
    "10 - 3"
   ]
  },
  {
   "cell_type": "markdown",
   "id": "5f579495-0b11-42e5-9d5d-aea53c92e41f",
   "metadata": {},
   "source": [
    "3. **Multiplication:**"
   ]
  },
  {
   "cell_type": "code",
   "execution_count": 5,
   "id": "9fa1012f-5394-4911-aa9d-ced42d207209",
   "metadata": {
    "tags": []
   },
   "outputs": [
    {
     "data": {
      "text/plain": [
       "12"
      ]
     },
     "execution_count": 5,
     "metadata": {},
     "output_type": "execute_result"
    }
   ],
   "source": [
    "3 * 4"
   ]
  },
  {
   "cell_type": "markdown",
   "id": "0e6c5ad0-a2d3-453e-95c8-0f8133068a7b",
   "metadata": {
    "tags": []
   },
   "source": [
    "4. **Division:**"
   ]
  },
  {
   "cell_type": "code",
   "execution_count": 8,
   "id": "19db345e-221c-4889-a4c0-f25474c2a24a",
   "metadata": {
    "tags": []
   },
   "outputs": [
    {
     "data": {
      "text/plain": [
       "5.0"
      ]
     },
     "execution_count": 8,
     "metadata": {},
     "output_type": "execute_result"
    }
   ],
   "source": [
    "15 / 3"
   ]
  },
  {
   "cell_type": "markdown",
   "id": "a63429ec-d84f-460f-8723-a4fc16fdc090",
   "metadata": {},
   "source": [
    "### Create a code cell to multiply and add numbers.\n"
   ]
  },
  {
   "cell_type": "code",
   "execution_count": 9,
   "id": "4dd95a8d-9904-4c2f-8b65-9e2151992e7a",
   "metadata": {
    "tags": []
   },
   "outputs": [
    {
     "data": {
      "text/plain": [
       "57"
      ]
     },
     "execution_count": 9,
     "metadata": {},
     "output_type": "execute_result"
    }
   ],
   "source": [
    "(6 * 9) + 3"
   ]
  },
  {
   "cell_type": "markdown",
   "id": "c121e1d6-72c1-4e9b-8814-5fd35ea335ca",
   "metadata": {},
   "source": [
    "# This will convert 200 minutes to hours by dividing by 60."
   ]
  },
  {
   "cell_type": "code",
   "execution_count": 10,
   "id": "48ab4ae8-9f0c-43bb-9e5d-411df95a8057",
   "metadata": {
    "tags": []
   },
   "outputs": [
    {
     "data": {
      "text/plain": [
       "3.3333333333333335"
      ]
     },
     "execution_count": 10,
     "metadata": {},
     "output_type": "execute_result"
    }
   ],
   "source": [
    "200 / 60"
   ]
  },
  {
   "cell_type": "markdown",
   "id": "36803701-4641-4314-a0a7-71938c741f0e",
   "metadata": {},
   "source": [
    "\n",
    "## **Objectives:**\n",
    "\n",
    "- List popular languages for Data Science.\n",
    "- Highlight commonly used libraries.\n",
    "- Introduce key Data Science tools.\n",
    "- Demonstrate arithmetic expressions in Python.\n",
    "- Summarize the key takeaways from the course.\n"
   ]
  },
  {
   "cell_type": "markdown",
   "id": "47af10fa-019a-43eb-b46c-f0acf21d9808",
   "metadata": {},
   "source": [
    "## Author\n",
    "\n",
    "Faiez\n"
   ]
  },
  {
   "cell_type": "code",
   "execution_count": null,
   "id": "509de7ac-35df-45e2-88f5-a56e603a40f9",
   "metadata": {},
   "outputs": [],
   "source": []
  }
 ],
 "metadata": {
  "kernelspec": {
   "display_name": "Python",
   "language": "python",
   "name": "conda-env-python-py"
  },
  "language_info": {
   "codemirror_mode": {
    "name": "ipython",
    "version": 3
   },
   "file_extension": ".py",
   "mimetype": "text/x-python",
   "name": "python",
   "nbconvert_exporter": "python",
   "pygments_lexer": "ipython3",
   "version": "3.7.12"
  }
 },
 "nbformat": 4,
 "nbformat_minor": 5
}
